{
 "cells": [
  {
   "cell_type": "markdown",
   "metadata": {},
   "source": [
    "When grading each of criterions you have to write justification why the points were given.\n",
    "\n",
    "1. Problem formulation [0-4 pts]:\n",
    "* is the problem clearly stated [1 pt]\n",
    "\n",
    "Problem was based on data analysis and data processing of phenomena occurences through the given dataset. The goal was to extract potentially usefull information for science or meteorologist prognosis. "
   ]
  },
  {
   "cell_type": "markdown",
   "metadata": {},
   "source": [
    "\n",
    "* what is the point of creating a model, are potential use cases defined [1 pt]\n",
    "\n",
    "The goal of the created model is to evaluate the probability of phenomena occurring in the future on a specific day of the year based on statistics gathered from previous years.\n"
   ]
  },
  {
   "cell_type": "markdown",
   "metadata": {},
   "source": [
    "\n",
    "* where do data comes from, what does it containt [1 pt]\n",
    "\n",
    "This project was relying on data on tornado occurrences in the US through a time window of 70 years (1950-2020). Dataset contains information about: date of occurace (three separate columns respectivaly for day, month and year: dy, mo, yr),timezone and time of start and end of occurance as in form of hours-minutes-seconds, place of occurance (state and city), power of the tornado. Tornadoes power level is measured in so-called Fujita scale which divides tornadoes into different categories (F1-F5) based on the speed of wind in the epicenter.\n"
   ]
  },
  {
   "cell_type": "markdown",
   "metadata": {},
   "source": [
    "\n",
    "* is preprocessing step clearly described [1 pt]\n",
    "\n",
    "???"
   ]
  },
  {
   "cell_type": "markdown",
   "metadata": {},
   "source": [
    "2. Model [0-4 pts]\n",
    "* are two different models specified [1 pt]\n",
    "\n",
    "Both models (model1_fit.stan; model2_fit.stan) are implemented and specified in the files of the project."
   ]
  },
  {
   "cell_type": "markdown",
   "metadata": {},
   "source": [
    "\n",
    "* are difference between two models explained [1 pt]\n",
    "\n",
    "Difference in specified models mainly revolves around choosed methods of variable calculation used to evaluate probability variable distribution."
   ]
  },
  {
   "cell_type": "markdown",
   "metadata": {},
   "source": [
    "* is the difference in the models justified (e.g. does adding aditional parameter makes sense? ) [1 pt]\n",
    "\n",
    "Initial intent was to find the most optimized method of calculating necessary distribution variables. But then when both models showed satisfactory results, project aim shifted to study discribed change with a goal to create more presised models."
   ]
  },
  {
   "cell_type": "markdown",
   "metadata": {},
   "source": [
    "* are models sufficiently described (what are formulas, what are parameters, what data are required ) [1 pt]\n",
    "\n",
    "While first model uses basic normal distribution method with specific given values to generate mu and sigma variables respectivaly, second model uses poisson lognormal distribution with specified lambda to calculate required variables.\n",
    "The final probability variable distribution is calculated with normal distribution, using previously generated mu and sigma."
   ]
  },
  {
   "cell_type": "markdown",
   "metadata": {},
   "source": [
    "3. Priors [0-4 pts]\n",
    "* Is it explained why particular priors for parameters were selected [1 pt]\n",
    "* Have prior predictive checks been done for parameters (are parameters simulated from priors make sense) [1 pt]\n",
    "* Have prior predictive checks been done for measurements (are measurements simulated from priors make sense) [1 pt]\n",
    "* How prior parameters were selected [1 pt]\n"
   ]
  },
  {
   "cell_type": "markdown",
   "metadata": {},
   "source": [
    "4. Posterior analysis (model 1) [0-4 pts]\n",
    "* were there any issues with the sampling? if there were what kind of ideas for mitigation were used [1 pt]\n",
    "* are the samples from posterior predictive distribution analyzed [1 pt]\n",
    "* are the data consistent with posterior predictive samples and is it sufficiently commented (if they are not then is the justification provided)\n",
    "* have parameter marginal disrtibutions been analyzed (histograms of individual parametes plus summaries, are they diffuse or concentrated, what can we say about values) [1 pt]\n"
   ]
  },
  {
   "cell_type": "markdown",
   "metadata": {},
   "source": [
    "5. Posterior analysis (model 2) [0-4 pts]\n",
    "* were there any issues with the sampling? if there were what kind of ideas for mitigation were used [1 pt]\n",
    "* are the samples from posterior predictive distribution analyzed [1 pt]\n",
    "* are the data consistent with posterior predictive samples and is it sufficiently commented (if they are not then is the justification provided)\n",
    "have parameter marginal disrtibutions been analyzed (histograms of individual parametes plus summaries, are they diffuse or concentrated, what can we say about values) [1 pt]\n"
   ]
  },
  {
   "cell_type": "markdown",
   "metadata": {},
   "source": [
    "6. Model comaprison [0-4 pts]\n",
    "* Have models been compared using information criteria [1 pt]\n",
    "* Have result for WAIC been discussed (is there a clear winner, or is there an overlap, were there any warnings) [1 pt]\n",
    "* Have result for PSIS-LOO been discussed (is there a clear winner, or is there an overlap, were there any warnings) [1 pt]\n",
    "* Whas the model comparison discussed? Do authors agree with information criteria? Why in your opinion one model better than another [1 pt]"
   ]
  }
 ],
 "metadata": {
  "language_info": {
   "name": "python"
  },
  "orig_nbformat": 4
 },
 "nbformat": 4,
 "nbformat_minor": 2
}
